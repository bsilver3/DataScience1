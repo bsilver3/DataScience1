{
 "cells": [
  {
   "cell_type": "code",
   "execution_count": 33,
   "metadata": {},
   "outputs": [],
   "source": [
    "column_dataset = {\n",
    "    \"Name\": [\"Edward Teach\", \"Anne Bonny\", \"John Rackham\", \"Cheung Po Tsai\", \"Grace O'Malley\", \"Mary Read\", \"Sayyida al Hurra\", \"Zheng Yi Sao\", \"Francis Drake\", \"Jean Lafitte\"],\n",
    "    \"Years Active\": [\"1716 - 1718\", \"1718 - 1720\", \"1718 - 1720\", \"1798 - 1810\", \"1564 - 1595\", \"1708 - 1721\", \"1515 - 1545\", \"1801 - 1810\", \"1563 - 1596\", \"1810 - 1823\"],\n",
    "    \"Sailed\": [\"Caribbean\", \"Caribbean\", \"Caribbean\", \"South China Sea\", \"British Isles\", \"Caribbean\", \"Mediterranean\", \"South China Sea\", \"Caribbean\", \"Gulf of Mexico\"],\n",
    "    \"Alias\": [\"Blackbeard\", \"\", \"Calico Jack\", \"The Kid\", \"Queen of Ireland\", \"Mark\", \"Hakimat Titwan\", \"Ching Shih\", \"Sir Francis Drake\", \"Terror of the Gulf\"]\n",
    "}"
   ]
  },
  {
   "cell_type": "code",
   "execution_count": 34,
   "metadata": {},
   "outputs": [],
   "source": [
    "dict_dataset = {\n",
    "    \"Edward Teach\": {\n",
    "        \"Years Active\": \"1716 - 1718\",\n",
    "        \"Sailed\": \"Caribbean\",\n",
    "        \"Alias\": \"Blackbeard\"\n",
    "    },\n",
    "\n",
    "    \"Anne Bonny\": {\n",
    "        \"Years Active\": \"1718 - 1720\",\n",
    "        \"Sailed\": \"Caribbean\",\n",
    "        \"Alias\": \"\"\n",
    "    },\n",
    "\n",
    "    \"John Rackham\": {\n",
    "        \"Years Active\": \"1718 - 1720\",\n",
    "        \"Sailed\": \"Caribbean\",\n",
    "        \"Alias\": \"Calico Jack\"\n",
    "    },\n",
    "\n",
    "    \"Cheung Po Tsai\": {\n",
    "        \"Years Active\": \"1798 - 1810\",\n",
    "        \"Sailed\": \"South China Sea\",\n",
    "        \"Alias\": \"The Kid\"\n",
    "    },\n",
    "\n",
    "    \"Grace O'Malley\": {\n",
    "        \"Years Active\": \"1564 - 1595\",\n",
    "        \"Sailed\": \"British Isles\",\n",
    "        \"Alias\": \"Queen of Ireland\"\n",
    "    },\n",
    "\n",
    "    \"Mary Read\": {\n",
    "        \"Years Active\": \"1708 - 1721\",\n",
    "        \"Sailed\": \"Caribbean\",\n",
    "        \"Alias\": \"Mark\"\n",
    "    },\n",
    "\n",
    "    \"Sayyida al Hurra\": {\n",
    "        \"Years Active\": \"1515 - 1545\",\n",
    "        \"Sailed\": \"Mediterranean\",\n",
    "        \"Alias\": \"Hakimat Titwan\"\n",
    "    },\n",
    "\n",
    "    \"Zheng Yi Sao\": {\n",
    "        \"Years Active\": \"1801 - 1810\",\n",
    "        \"Sailed\": \"South China Sea\",\n",
    "        \"Alias\": \"Ching Shih\"\n",
    "    },\n",
    "\n",
    "    \"Francis Drake\": {\n",
    "        \"Years Active\": \"1563 - 1596\",\n",
    "        \"Sailed\": \"Caribbean\",\n",
    "        \"Alias\": \"Sir Francis Drake\"\n",
    "    },\n",
    "\n",
    "    \"Jean Lafitte\": {\n",
    "        \"Years Active\": \"1810 - 1823\",\n",
    "        \"Sailed\": \"Gulf of Mexico\",\n",
    "        \"Alias\": \"Terror of the Gulf\"\n",
    "    },\n",
    "}"
   ]
  },
  {
   "cell_type": "code",
   "execution_count": 35,
   "metadata": {},
   "outputs": [],
   "source": [
    "row_dataset = {\n",
    "    \"Edward Teach\": [\"1716 - 1718\", \"Caribbean\", \"Blackbeard\"],\n",
    "    \"Anne Bonny\": [\"1718 - 1720\", \"Caribbean\", \"\"],\n",
    "    \"John Rackham\": [\"1718 - 1720\", \"Caribbean\", \"Calico Jack\"],\n",
    "    \"Cheung Po Tsai\": [\"1798 - 1810\", \"South China Sea\", \"The Kid\"],\n",
    "    \"Grace O'Malley\": [\"1564 - 1595\", \"British Isles\", \"Queen of Ireland\"],\n",
    "    \"Mary Read\": [\"1708 - 1721\", \"Caribbean\", \"Mark\"],\n",
    "    \"Sayyida al Hurra\": [\"1515 - 1545\", \"Mediterranean\", \"Hakimat Titwan\"],\n",
    "    \"Zheng Yi Sao\": [\"1801 - 1810\", \"South China Sea\", \"Ching Shih\"],\n",
    "    \"Francis Drake\": [\"1563 - 1596\", \"Caribbean\", \"Sir Francis Drake\"],\n",
    "    \"Jean Lafitte\": [\"1810 - 1823\", \"Gulf of Mexico\", \"Terror of the Gulf\"],\n",
    "}"
   ]
  },
  {
   "cell_type": "code",
   "execution_count": 36,
   "metadata": {},
   "outputs": [
    {
     "name": "stdout",
     "output_type": "stream",
     "text": [
      "There are 4 pirates who were active in the Caribbean during the 18th century.\n"
     ]
    }
   ],
   "source": [
    "count = 0\n",
    "for i in row_dataset:\n",
    "    if(row_dataset[i][0][:2] == \"17\" and row_dataset[i][1] == \"Caribbean\"):\n",
    "        count += 1\n",
    "print(\"There are\", count, \"pirates who were active in the Caribbean during the 18th century.\")"
   ]
  },
  {
   "cell_type": "code",
   "execution_count": 37,
   "metadata": {},
   "outputs": [
    {
     "name": "stdout",
     "output_type": "stream",
     "text": [
      "The longest career belongs to Francis Drake with 33 years on their career.\n"
     ]
    }
   ],
   "source": [
    "curLength = 0\n",
    "longestCareer = 0\n",
    "longestName = \"\"\n",
    "frontYear = 0\n",
    "backYear = 0\n",
    "\n",
    "for i in row_dataset:\n",
    "    frontYear = int(row_dataset[i][0][:4])\n",
    "    backYear = int(row_dataset[i][0][-4:])\n",
    "    curLength = backYear - frontYear\n",
    "    if(curLength > longestCareer):\n",
    "        longestCareer = curLength\n",
    "        longestName = i\n",
    "print(\"The longest career belongs to\", longestName, \"with\", longestCareer, \"years on their career.\")"
   ]
  },
  {
   "cell_type": "code",
   "execution_count": 38,
   "metadata": {},
   "outputs": [
    {
     "name": "stdout",
     "output_type": "stream",
     "text": [
      "The average length of a pirate's active career is 14.7 years.\n"
     ]
    }
   ],
   "source": [
    "frontYear = 0\n",
    "backYear = 0\n",
    "curLength = 0\n",
    "totalLength = 0\n",
    "pirateCount = 0\n",
    "\n",
    "for i in row_dataset:\n",
    "    frontYear = int(row_dataset[i][0][:4])\n",
    "    backYear = int(row_dataset[i][0][-4:])\n",
    "    curLength = backYear - frontYear\n",
    "    totalLength += curLength\n",
    "    pirateCount += 1\n",
    "averageLength = totalLength / pirateCount\n",
    "print(\"The average length of a pirate's active career is\", averageLength, \"years.\")"
   ]
  },
  {
   "cell_type": "code",
   "execution_count": 39,
   "metadata": {},
   "outputs": [],
   "source": [
    "newDataset = {\n",
    "    \"Pirate\": [\"Blackbeard\", \"Anne Bonny\", \"Calico Jack\", \"Chueng Po Tsai\", \"Grace O'Malley\", \"Mary Read\", \"Sayyida al Hurra\", \"Ching Shih\", \"Sir Francis Drake\", \"Jean Lafitte\"],\n",
    "    \"Sex\": [\"M\", \"F\", \"M\", \"M\", \"F\", \"F\", \"F\", \"F\", \"M\", \"M\"],\n",
    "    \"Age at Death\": [40, 24, 37, 39, 73, 36, 75, 69, 56, 46],\n",
    "    \"Height\": [6.4, 5.6, 5.3, 5.0, 5.1, \"\", 5.3, 5.5, 6.2],\n",
    "    \"Skull and Crossbones\": [False, True, True, False, False, True, False, False, False, False]\n",
    "}"
   ]
  },
  {
   "cell_type": "code",
   "execution_count": 40,
   "metadata": {},
   "outputs": [
    {
     "name": "stdout",
     "output_type": "stream",
     "text": [
      "Name: ['Edward Teach', 'Anne Bonny', 'John Rackham', 'Cheung Po Tsai', \"Grace O'Malley\", 'Mary Read', 'Sayyida al Hurra', 'Zheng Yi Sao', 'Francis Drake', 'Jean Lafitte']\n",
      "Years Active: ['1716 - 1718', '1718 - 1720', '1718 - 1720', '1798 - 1810', '1564 - 1595', '1708 - 1721', '1515 - 1545', '1801 - 1810', '1563 - 1596', '1810 - 1823']\n",
      "Sailed: ['Caribbean', 'Caribbean', 'Caribbean', 'South China Sea', 'British Isles', 'Caribbean', 'Mediterranean', 'South China Sea', 'Caribbean', 'Gulf of Mexico']\n",
      "Alias: ['Blackbeard', '', 'Calico Jack', 'The Kid', 'Queen of Ireland', 'Mark', 'Hakimat Titwan', 'Ching Shih', 'Sir Francis Drake', 'Terror of the Gulf']\n",
      "Sex: ['M', 'F', 'M', 'M', 'F', 'F', 'F', 'F', 'M', 'M']\n",
      "Age at Death: [40, 24, 37, 39, 73, 36, 75, 69, 56, 46]\n",
      "Height: [6.4, 5.6, 5.3, 5.0, 5.1, '', 5.3, 5.5, 6.2]\n",
      "Skull and Crossbones: [False, True, True, False, False, True, False, False, False, False]\n"
     ]
    }
   ],
   "source": [
    "combinedDataset = column_dataset\n",
    "\n",
    "for j in newDataset:\n",
    "    if(j != \"Pirate\"):\n",
    "        combinedDataset[j] = newDataset[j]\n",
    "\n",
    "for i in combinedDataset:\n",
    "    print(i + \":\",combinedDataset[i])"
   ]
  }
 ],
 "metadata": {
  "kernelspec": {
   "display_name": "base",
   "language": "python",
   "name": "python3"
  },
  "language_info": {
   "codemirror_mode": {
    "name": "ipython",
    "version": 3
   },
   "file_extension": ".py",
   "mimetype": "text/x-python",
   "name": "python",
   "nbconvert_exporter": "python",
   "pygments_lexer": "ipython3",
   "version": "3.9.13"
  },
  "orig_nbformat": 4
 },
 "nbformat": 4,
 "nbformat_minor": 2
}
