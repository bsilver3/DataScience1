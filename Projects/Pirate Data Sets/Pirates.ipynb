{
 "cells": [
  {
   "cell_type": "code",
   "execution_count": 112,
   "metadata": {},
   "outputs": [
    {
     "name": "stdout",
     "output_type": "stream",
     "text": [
      "Blackbeard\n",
      "M\n",
      "40\n",
      "6.4\n",
      "False\n",
      "\n",
      "[False, False, False, False, True, False, False, True, True, False]\n",
      "\n",
      "['Blackbeard', 'Anne Bonny', 'Calico Jack', 'Chueng Po Tsai', \"Grace O'Malley\", 'Mary Read', 'Sayyida al Hurra', 'Ching Shih', 'Sir Francis Drake', 'Jean Lafitte']\n",
      "[40, 24, 37, 39, 73, 36, 75, 69, 56, 46]\n",
      "[False, True, True, False, False, True, False, False, False, False]\n"
     ]
    }
   ],
   "source": [
    "pirates2 = {\n",
    "    \"Pirate\": [\"Blackbeard\", \"Anne Bonny\", \"Calico Jack\", \"Chueng Po Tsai\", \"Grace O'Malley\", \"Mary Read\", \"Sayyida al Hurra\", \"Ching Shih\", \"Sir Francis Drake\", \"Jean Lafitte\"],\n",
    "    \"Sex\": [\"M\", \"F\", \"M\", \"M\", \"F\", \"F\", \"F\", \"F\", \"M\", \"M\"],\n",
    "    \"Age at Death\": [40, 24, 37, 39, 73, 36, 75, 69, 56, 46],\n",
    "    \"Height\": [6.4, 5.6, 5.3, 5.0, 5.1, \"\", 5.3, 5.5, 6.2],\n",
    "    \"Skull and Crossbones\": [False, True, True, False, False, True, False, False, False, False]\n",
    "}\n",
    "\n",
    "for u in pirates2:\n",
    "    print(pirates2[u][0])\n",
    "print(\"\")\n",
    "\n",
    "print(pirates2[\"Skull and Crossbones\"][::-1])\n",
    "print(\"\")\n",
    "\n",
    "for i, key in enumerate(pirates2.keys()):\n",
    "    if i % 2 == 0:\n",
    "        print(pirates2[key])"
   ]
  },
  {
   "cell_type": "code",
   "execution_count": 113,
   "metadata": {},
   "outputs": [
    {
     "name": "stdout",
     "output_type": "stream",
     "text": [
      "3 flag(s) have a skull and crossbones.\n",
      "\n"
     ]
    }
   ],
   "source": [
    "skulls = 0\n",
    "for v in pirates2[\"Skull and Crossbones\"]:\n",
    "    if v == True:\n",
    "        skulls += 1\n",
    "print(str(skulls) + \" flag(s) have a skull and crossbones.\")\n",
    "print(\"\")"
   ]
  },
  {
   "cell_type": "code",
   "execution_count": 114,
   "metadata": {},
   "outputs": [
    {
     "name": "stdout",
     "output_type": "stream",
     "text": [
      "Females live longer, with an average age of 55.4.\n",
      "\n"
     ]
    }
   ],
   "source": [
    "maleAge = 0.0\n",
    "femaleAge = 0.0\n",
    "maleCount = 0\n",
    "femaleCount = 0\n",
    "count = 0\n",
    "for s in pirates2[\"Sex\"]:\n",
    "    if s == \"M\":\n",
    "        maleAge += (pirates2[\"Age at Death\"][count])\n",
    "        maleCount += 1\n",
    "    else:\n",
    "        femaleAge += (pirates2[\"Age at Death\"][count])\n",
    "        femaleCount += 1\n",
    "    count += 1\n",
    "averageMaleAge = (maleAge / maleCount)\n",
    "averageFemaleAge = (femaleAge / femaleCount)\n",
    "if averageMaleAge > averageFemaleAge:\n",
    "    print(\"Males live longer, with an average age of \" + str(averageMaleAge) + \".\")\n",
    "elif averageFemaleAge > averageMaleAge:\n",
    "    print(\"Females live longer, with an average age of \" + str(averageFemaleAge) + \".\")\n",
    "else:\n",
    "    print(\"Both males and females have the same average age.\")\n",
    "print(\"\")\n"
   ]
  },
  {
   "cell_type": "code",
   "execution_count": 115,
   "metadata": {},
   "outputs": [
    {
     "name": "stdout",
     "output_type": "stream",
     "text": [
      "20.0 percent of pirates are over 6 feet tall.\n"
     ]
    }
   ],
   "source": [
    "totalPirates = len(pirates2[\"Pirate\"])\n",
    "piratesOverLimit = 0\n",
    "for p in pirates2[\"Height\"]:\n",
    "    if(p != \"\" and p > 6.0):\n",
    "        piratesOverLimit += 1\n",
    "percent = (piratesOverLimit / totalPirates) * 100\n",
    "print(str(percent) + \" percent of pirates are over 6 feet tall.\")"
   ]
  },
  {
   "cell_type": "code",
   "execution_count": 116,
   "metadata": {},
   "outputs": [],
   "source": [
    "pirates = {\n",
    "    \"row1\" : {\n",
    "        \"Pirate\": \"Blackbeard\",\n",
    "        \"Sex\": \"M\",\n",
    "        \"Age at Death\": 40,\n",
    "        \"Height\": 6.4,\n",
    "        \"Skull and Crossbones\": False\n",
    "    },\n",
    "\n",
    "    \"row2\" : {\n",
    "        \"Pirate\": \"Anne Bonny\",\n",
    "        \"Sex\": \"F\",\n",
    "        \"Age at Death\": 24,\n",
    "        \"Height\": 5.6,\n",
    "        \"Skull and Crossbones\": True\n",
    "    },\n",
    "\n",
    "    \"row3\" : {\n",
    "        \"Pirate\": \"Calico Jack\",\n",
    "        \"Sex\": \"M\",\n",
    "        \"Age at Death\": 37,\n",
    "        \"Height\": 5.6,\n",
    "        \"Skull and Crossbones\": True\n",
    "    },\n",
    "\n",
    "    \"row4\" : {\n",
    "        \"Pirate\": \"Chueng Po Tsai\",\n",
    "        \"Sex\": \"M\",\n",
    "        \"Age at Death\": 39,\n",
    "        \"Height\": 5.3,\n",
    "        \"Skull and Crossbones\": False\n",
    "    },\n",
    "\n",
    "    \"row5\" : {\n",
    "        \"Pirate\": \"Grace O'Malley\",\n",
    "        \"Sex\": \"F\",\n",
    "        \"Age at Death\": 73,\n",
    "        \"Height\": 5.0,\n",
    "        \"Skull and Crossbones\": False\n",
    "    },\n",
    "\n",
    "    \"row6\" : {\n",
    "        \"Pirate\": \"Mary Read\",\n",
    "        \"Sex\": \"F\",\n",
    "        \"Age at Death\": 36,\n",
    "        \"Height\": 5.1,\n",
    "        \"Skull and Crossbones\": True\n",
    "    },\n",
    "\n",
    "    \"row7\" : {\n",
    "        \"Pirate\": \"Sayyida al Hurra\",\n",
    "        \"Sex\": \"F\",\n",
    "        \"Age at Death\": 75,\n",
    "        \"Height\": \"\",\n",
    "        \"Skull and Crossbones\": False\n",
    "    },\n",
    "\n",
    "    \"row8\" : {\n",
    "        \"Pirate\": \"Ching Shih\",\n",
    "        \"Sex\": \"F\",\n",
    "        \"Age at Death\": 69,\n",
    "        \"Height\": 5.3,\n",
    "        \"Skull and Crossbones\": False\n",
    "    },\n",
    "\n",
    "    \"row9\" : {\n",
    "        \"Pirate\": \"Sir Francis Drake\",\n",
    "        \"Sex\": \"M\",\n",
    "        \"Age at Death\": 56,\n",
    "        \"Height\": 5.5,\n",
    "        \"Skull and Crossbones\": False\n",
    "    },\n",
    "\n",
    "    \"row10\" : {\n",
    "        \"Pirate\": \"Jean Lafitte\",\n",
    "        \"Sex\": \"M\",\n",
    "        \"Age at Death\": 46,\n",
    "        \"Height\": 6.2,\n",
    "        \"Skull and Crossbones\": False\n",
    "    }\n",
    "}"
   ]
  },
  {
   "cell_type": "code",
   "execution_count": 117,
   "metadata": {},
   "outputs": [],
   "source": [
    "# for x in pirates:\n",
    "#     print(pirates[x])\n",
    "\n",
    "# for i in pirates2:\n",
    "#     print(pirates2[i])\n",
    "\n",
    "# print(pirates[\"row1\"])\n",
    "# print(\"\")\n",
    "\n",
    "# keys = pirates.keys()\n",
    "# output = \"\"\n",
    "# for i in keys:\n",
    "#     current = (pirates[i])\n",
    "#     for j in current.values():\n",
    "#         output = output + \" \" + str(j)\n",
    "#     output = output + \", \"\n",
    "# print(output)\n",
    "\n",
    "# for i in pirates.values():\n",
    "#     length2 = len(i)\n",
    "#     output = \"\"\n",
    "#     for j in range(0, length2, 2):\n",
    "#         output = i[j] + \" \"\n",
    "#     print(output)"
   ]
  }
 ],
 "metadata": {
  "kernelspec": {
   "display_name": "base",
   "language": "python",
   "name": "python3"
  },
  "language_info": {
   "codemirror_mode": {
    "name": "ipython",
    "version": 3
   },
   "file_extension": ".py",
   "mimetype": "text/x-python",
   "name": "python",
   "nbconvert_exporter": "python",
   "pygments_lexer": "ipython3",
   "version": "3.9.13"
  },
  "orig_nbformat": 4
 },
 "nbformat": 4,
 "nbformat_minor": 2
}
